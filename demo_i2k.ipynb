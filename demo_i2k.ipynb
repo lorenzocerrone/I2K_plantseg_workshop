{
 "cells": [
  {
   "cell_type": "code",
   "execution_count": 11,
   "metadata": {},
   "outputs": [],
   "source": [
    "from plantseg.core.image import PlantSegImage, ImageProperties\n",
    "from pathlib import Path\n",
    "import matplotlib.pyplot as plt"
   ]
  },
  {
   "cell_type": "code",
   "execution_count": null,
   "metadata": {},
   "outputs": [],
   "source": [
    "from plantseg.tasks.workflow_handler import workflow_handler\n",
    "\n",
    "workflow_handler.clean_dag()\n",
    "workflow_handler.dag.inputs, workflow_handler.dag.list_tasks"
   ]
  },
  {
   "cell_type": "code",
   "execution_count": null,
   "metadata": {},
   "outputs": [],
   "source": [
    "from plantseg.tasks.io_tasks import import_image_task\n",
    "\n",
    "path = \"/Users/locerr/data/I2K2024_plantseg_testdata/tiny_2D/ovule_sample_2D.tiff\"\n",
    "path = Path(path)\n",
    "\n",
    "ps_image = import_image_task(input_path=path, semantic_type='raw', stack_layout=\"YX\", key=\"raw\")\n",
    "\n",
    "plt.imshow(ps_image.get_data(), cmap=\"gray\")\n",
    "plt.axis(\"off\")\n",
    "plt.show()\n",
    "workflow_handler.dag.inputs, workflow_handler.dag.list_tasks"
   ]
  },
  {
   "cell_type": "code",
   "execution_count": 28,
   "metadata": {},
   "outputs": [],
   "source": [
    "from plantseg.tasks.io_tasks import export_image_task\n",
    "from plantseg.tasks.dataprocessing_tasks import gaussian_smoothing_task\n",
    "from plantseg.tasks.prediction_tasks import unet_prediction_task\n",
    "from plantseg.tasks.segmentation_tasks import dt_watershed_task, clustering_segmentation_task\n",
    "\n",
    "\n"
   ]
  },
  {
   "cell_type": "code",
   "execution_count": null,
   "metadata": {},
   "outputs": [],
   "source": [
    "export_image_task(image=ps_image, export_directory=\"./\", name_pattern='{file_name}_export')\n",
    "\n",
    "plt.imshow(ps_image.get_data(), cmap=\"gray\")\n",
    "plt.axis(\"off\")\n",
    "plt.show()\n",
    "workflow_handler.dag.inputs, workflow_handler.dag.list_tasks"
   ]
  },
  {
   "cell_type": "code",
   "execution_count": 32,
   "metadata": {},
   "outputs": [],
   "source": [
    "workflow_handler.save_to_yaml(path=\"./custom_workflow.yaml\")\n"
   ]
  },
  {
   "cell_type": "code",
   "execution_count": null,
   "metadata": {},
   "outputs": [],
   "source": []
  }
 ],
 "metadata": {
  "kernelspec": {
   "display_name": "plant-seg",
   "language": "python",
   "name": "python3"
  },
  "language_info": {
   "codemirror_mode": {
    "name": "ipython",
    "version": 3
   },
   "file_extension": ".py",
   "mimetype": "text/x-python",
   "name": "python",
   "nbconvert_exporter": "python",
   "pygments_lexer": "ipython3",
   "version": "3.12.6"
  }
 },
 "nbformat": 4,
 "nbformat_minor": 4
}
